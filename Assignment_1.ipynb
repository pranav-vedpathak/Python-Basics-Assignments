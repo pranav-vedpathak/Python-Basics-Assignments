{
 "cells": [
  {
   "cell_type": "raw",
   "id": "41a8ed17-ed4b-457b-92c9-40fb3254a24b",
   "metadata": {},
   "source": [
    "1. In the below elements which of them are values or an expression? eg:- values can be integer or string and expressions will be mathematical operators.\n",
    "\n",
    "*  -expression\n",
    "'hello' -values\n",
    "-87.8 -values\n",
    "-  -expression\n",
    "/ - expression\n",
    "+\t-expression\n",
    "6 -values"
   ]
  },
  {
   "cell_type": "raw",
   "id": "85c14382-ad56-48fc-a78b-e4c404ee3c87",
   "metadata": {},
   "source": [
    "2. What is the difference between string and variable?\n",
    "\n",
    "Variables are symbols in which you can store data. \n",
    "String is the data which you can save in variables.\n"
   ]
  },
  {
   "cell_type": "raw",
   "id": "61ac0bf3-5264-4869-9dbb-aefc00f245ad",
   "metadata": {},
   "source": [
    "3. Describe three different data types.\n",
    "\n",
    "Int- contains whole numerical values\n",
    "Float – numbers with decimals\n",
    "Complex numbers- imaginary number\n",
    "String- name or text\n",
    "Boolean -true or false\n"
   ]
  },
  {
   "cell_type": "raw",
   "id": "22a37416-cf56-4c63-af05-d2a97657d669",
   "metadata": {},
   "source": [
    "4. What is an expression made up of? What do all expressions do?\n",
    "\n",
    "An expression is a combination of operators and operands that is interpreted to produce some other value or result.\n"
   ]
  },
  {
   "cell_type": "raw",
   "id": "da4ccdea-f81e-4f24-b1bf-61eabc3943df",
   "metadata": {},
   "source": [
    "5. This assignment statements, like spam = 10. What is the difference between an expression and a statement?\n",
    "\n",
    "Expressions can be assigned or used as operands, while statements can only be declared.\n"
   ]
  },
  {
   "cell_type": "raw",
   "id": "b054b1db-264a-41a3-ba49-31a9574cb576",
   "metadata": {},
   "source": [
    "6. After running the following code, what does the variable bacon contain?\n",
    "\n",
    "bacon = 22\n",
    "bacon + 1\n"
   ]
  },
  {
   "cell_type": "code",
   "execution_count": 1,
   "id": "f8c0a2d7-668f-4906-a0d5-c243e29feed4",
   "metadata": {},
   "outputs": [
    {
     "data": {
      "text/plain": [
       "23"
      ]
     },
     "execution_count": 1,
     "metadata": {},
     "output_type": "execute_result"
    }
   ],
   "source": [
    "bacon = 22\n",
    "bacon + 1"
   ]
  },
  {
   "cell_type": "raw",
   "id": "1d9dd19d-2b9f-4ea7-80e2-4c9789dee5cf",
   "metadata": {},
   "source": [
    "7. What should the values of the following two terms be?\n",
    "\n",
    "'spam' + 'spamspam'\n",
    "'spam' * 3\n"
   ]
  },
  {
   "cell_type": "code",
   "execution_count": 2,
   "id": "dc0b2ca9-5e49-4f18-b3fc-8bf39e47a3f1",
   "metadata": {},
   "outputs": [
    {
     "data": {
      "text/plain": [
       "'spamspamspam'"
      ]
     },
     "execution_count": 2,
     "metadata": {},
     "output_type": "execute_result"
    }
   ],
   "source": [
    "'spam' + 'spamspam'"
   ]
  },
  {
   "cell_type": "code",
   "execution_count": 3,
   "id": "7b909f32-be8a-488e-b7b4-6d0de446392e",
   "metadata": {},
   "outputs": [
    {
     "data": {
      "text/plain": [
       "'spamspamspam'"
      ]
     },
     "execution_count": 3,
     "metadata": {},
     "output_type": "execute_result"
    }
   ],
   "source": [
    "'spam' * 3"
   ]
  },
  {
   "cell_type": "code",
   "execution_count": null,
   "id": "28ee7761-46e4-454e-8226-6ae849326391",
   "metadata": {},
   "outputs": [],
   "source": []
  },
  {
   "cell_type": "raw",
   "id": "ba03c6a0-6094-4782-805a-72b4173c1ec0",
   "metadata": {},
   "source": [
    "8. Why is eggs a valid variable name while 100 is invalid?\n",
    "\n",
    "Variable name should be string. variable name starting with numeric value is not valid variable name\n"
   ]
  },
  {
   "cell_type": "raw",
   "id": "31a633a7-fd86-420a-b588-934535761af3",
   "metadata": {},
   "source": [
    "9. What three functions can be used to get the integer, floating-point number, or string version of a value?\n",
    "\n",
    "Int()\n",
    "Float()\n",
    "Str()\n"
   ]
  },
  {
   "cell_type": "raw",
   "id": "5733d8e5-a207-4e67-bb11-b6886692cb57",
   "metadata": {},
   "source": [
    "10. Why does this expression cause an error? How can you fix it?\n",
    "\n",
    "'I have eaten ' + 99 + ' burritos.'\n",
    "\n",
    "- This expression will cause an error because only strings can be concatenated.\n",
    "by converting 99 from int to str we can fix it."
   ]
  },
  {
   "cell_type": "code",
   "execution_count": 5,
   "id": "7a858f2b-8c47-4d0f-bd0d-bda5368c647a",
   "metadata": {},
   "outputs": [
    {
     "data": {
      "text/plain": [
       "'I have eaten 99 burritos.'"
      ]
     },
     "execution_count": 5,
     "metadata": {},
     "output_type": "execute_result"
    }
   ],
   "source": [
    "'I have eaten ' + '99' + ' burritos.'"
   ]
  },
  {
   "cell_type": "code",
   "execution_count": null,
   "id": "e6916cd1-7834-463d-b54a-df3e8b137b6b",
   "metadata": {},
   "outputs": [],
   "source": []
  }
 ],
 "metadata": {
  "kernelspec": {
   "display_name": "Python 3 (ipykernel)",
   "language": "python",
   "name": "python3"
  },
  "language_info": {
   "codemirror_mode": {
    "name": "ipython",
    "version": 3
   },
   "file_extension": ".py",
   "mimetype": "text/x-python",
   "name": "python",
   "nbconvert_exporter": "python",
   "pygments_lexer": "ipython3",
   "version": "3.10.6"
  }
 },
 "nbformat": 4,
 "nbformat_minor": 5
}
